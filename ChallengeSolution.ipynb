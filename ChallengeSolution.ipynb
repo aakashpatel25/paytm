{
 "cells": [
  {
   "cell_type": "code",
   "execution_count": 1,
   "metadata": {},
   "outputs": [],
   "source": [
    "from pyspark.sql.types import IntegerType, BooleanType\n",
    "from pyspark.sql.functions import udf"
   ]
  },
  {
   "cell_type": "code",
   "execution_count": 2,
   "metadata": {},
   "outputs": [],
   "source": [
    "weather_data = spark.read.csv('data/2019', header=True, inferSchema=True)\n",
    "station_list = spark.read.csv('stationlist.csv', header=True, inferSchema=True)\n",
    "country_list = spark.read.csv('countrylist.csv', header=True, inferSchema=True)"
   ]
  },
  {
   "cell_type": "code",
   "execution_count": 3,
   "metadata": {},
   "outputs": [
    {
     "name": "stdout",
     "output_type": "stream",
     "text": [
      "root\n",
      " |-- STN---: integer (nullable = true)\n",
      " |-- WBAN: integer (nullable = true)\n",
      " |-- YEARMODA: integer (nullable = true)\n",
      " |-- TEMP: double (nullable = true)\n",
      " |-- DEWP: double (nullable = true)\n",
      " |-- SLP: double (nullable = true)\n",
      " |-- STP: double (nullable = true)\n",
      " |-- VISIB: double (nullable = true)\n",
      " |-- WDSP: double (nullable = true)\n",
      " |-- MXSPD: double (nullable = true)\n",
      " |-- GUST: double (nullable = true)\n",
      " |-- MAX: string (nullable = true)\n",
      " |-- MIN: string (nullable = true)\n",
      " |-- PRCP: string (nullable = true)\n",
      " |-- SNDP: double (nullable = true)\n",
      " |-- FRSHTT: integer (nullable = true)\n",
      "\n"
     ]
    }
   ],
   "source": [
    "weather_data.printSchema()"
   ]
  },
  {
   "cell_type": "code",
   "execution_count": 4,
   "metadata": {},
   "outputs": [],
   "source": [
    "# UDFs to extract year, month and date in weather data\n",
    "\n",
    "def extract_tornados(ind):\n",
    "    data = str(ind)\n",
    "    if len(data) > 4:\n",
    "        return data[4] == \"1\"\n",
    "    else:\n",
    "        return False\n",
    "\n",
    "extract_year = udf(lambda date: int(str(date)[:4]), IntegerType())\n",
    "extract_month = udf(lambda date: int(str(date)[4:6]), IntegerType())\n",
    "extract_day = udf(lambda date: int(str(date)[6:]), IntegerType())\n",
    "extract_tornado = udf(extract_tornados, BooleanType())\n",
    "\n",
    "weather_data = weather_data.select('STN---', 'TEMP', 'WDSP', 'FRSHTT', 'YEARMODA')\n",
    "\n",
    "weather_data = (weather_data.withColumn(\n",
    "                            'YEAR', extract_year('YEARMODA')\n",
    "                            ).withColumn(\n",
    "                            'MONTH', extract_month('YEARMODA')\n",
    "                            ).withColumn(\n",
    "                            'DAY', extract_day('YEARMODA')\n",
    "                            ).withColumn(\n",
    "                                \"Tornadoes\", extract_tornado('FRSHTT')\n",
    "                            ).drop('FRSHTT')\n",
    "                )"
   ]
  },
  {
   "cell_type": "code",
   "execution_count": 5,
   "metadata": {},
   "outputs": [],
   "source": [
    "country_stations = country_list.join(station_list, \n",
    "                  country_list.COUNTRY_ABBR == station_list.COUNTRY_ABBR,\n",
    "                 'inner').select(country_list.COUNTRY_FULL, \n",
    "                                 country_list.COUNTRY_ABBR,\n",
    "                                 station_list.STN_NO)"
   ]
  },
  {
   "cell_type": "code",
   "execution_count": 6,
   "metadata": {},
   "outputs": [],
   "source": [
    "final_weather_data = country_stations.join(weather_data, \n",
    "                      country_stations.STN_NO == weather_data['STN---'],\n",
    "                     'inner').drop(weather_data['STN---'])"
   ]
  },
  {
   "cell_type": "code",
   "execution_count": 7,
   "metadata": {},
   "outputs": [
    {
     "name": "stdout",
     "output_type": "stream",
     "text": [
      "+------------+------------+------+----+----+----+-----+---+---------+\n",
      "|COUNTRY_FULL|COUNTRY_ABBR|STN_NO|TEMP|WDSP|YEAR|MONTH|DAY|Tornadoes|\n",
      "+------------+------------+------+----+----+----+-----+---+---------+\n",
      "|      NORWAY|          NO|013840|38.6|11.7|2019|    1|  1|    false|\n",
      "|      NORWAY|          NO|013840|30.5| 8.0|2019|    1|  2|    false|\n",
      "+------------+------------+------+----+----+----+-----+---+---------+\n",
      "only showing top 2 rows\n",
      "\n"
     ]
    }
   ],
   "source": [
    "final_weather_data.show(2)"
   ]
  },
  {
   "cell_type": "code",
   "execution_count": 9,
   "metadata": {},
   "outputs": [
    {
     "data": {
      "text/plain": [
       "'\\nWhich country had the most consecutive days of tornadoes/funnel cloud\\nformations?\\n\\n\\n'"
      ]
     },
     "execution_count": 9,
     "metadata": {},
     "output_type": "execute_result"
    }
   ],
   "source": [
    "\"\"\"\n",
    "Which country had the most consecutive days of tornadoes/funnel cloud\n",
    "formations?\n",
    "\n",
    "\n",
    "\"\"\"\n",
    "window = Window.partitionBy(\"COUNTRY_FULL\").orderby(\"YEARMODA\")\n",
    "processed_data = (final_weather_data.withColumn(\n",
    "                    \"lag_date\",  lag(\"YEARMODA\", 1, \"\").over(w1))\n",
    "                        .withColumn(\n",
    "                    \"lag_val\", lag(\"Tornadoes\", 1, \"\").over(w1))\n",
    "                  .withColumn(\"index\", sum(\"jump\").over(w1))\n",
    "                  .withColumn('RowCount', )\n",
    "                 )\n"
   ]
  },
  {
   "cell_type": "code",
   "execution_count": 20,
   "metadata": {},
   "outputs": [],
   "source": [
    "def get_mean_average_sorted(df, mean_col, group_by_col, missing_val):\n",
    "    \"\"\"\n",
    "    Given dataframe it applies group by operation on group_by_col and \n",
    "    computes mean of the mean_col. Returns data sorted in descending order\n",
    "    on final average of mean_col.\n",
    "    \n",
    "    Arguments:\n",
    "        dataframe spark.DataFrame\n",
    "            Dataframe on which the mean operation is to be applied on\n",
    "        mean_col string\n",
    "            Column on which mean is to be computed on\n",
    "        group_by_col list(string)\n",
    "            String of column by which the group by is supposed to happen\n",
    "        missing_val int\n",
    "            Missing value replacement (used to filter data)\n",
    "    \n",
    "    Returns:\n",
    "        aggregated_df spark.DataFrame\n",
    "            Aggregated spark dataframe sorted in descending order\n",
    "    \"\"\"\n",
    "    aggregated_df = (df.filter(\n",
    "                    df[mean_col] != missing_val\n",
    "                ).groupby(\n",
    "                    group_by_col\n",
    "                ).mean(\n",
    "                    mean_col\n",
    "                ).withColumnRenamed(\n",
    "                    f\"avg({mean_col})\",f\"mean_{mean_col}\"\n",
    "                )\n",
    "           )\n",
    "    return aggregated_df.orderBy(aggregated_df[f\"mean_{mean_col}\"].desc())"
   ]
  },
  {
   "cell_type": "code",
   "execution_count": 22,
   "metadata": {},
   "outputs": [
    {
     "name": "stdout",
     "output_type": "stream",
     "text": [
      "Country with hottest mean average temprature is DJIBOUTI\n"
     ]
    }
   ],
   "source": [
    "\"\"\"\n",
    "Which country had the hottest average mean temperature over the year?\n",
    "\n",
    "Approach:\n",
    "Missing temprature data should be filtered out. Also yearmoda should be\n",
    "split into 3 different columns each holding a year, month and day.\n",
    "\n",
    "And average temprature should be computed using groupby query of year and\n",
    "country and applying aggregation function called mean\n",
    "\"\"\"\n",
    "average_temp = get_mean_average_sorted(\n",
    "                    final_weather_data, \n",
    "                    'TEMP', \n",
    "                    ['YEAR', 'COUNTRY_FULL'],\n",
    "                    9999.9\n",
    "                )\n",
    "country = average_temp.select('COUNTRY_FULL').take(1)\n",
    "print(f\"Country with hottest mean average temprature is {country[0].COUNTRY_FULL}\")"
   ]
  },
  {
   "cell_type": "code",
   "execution_count": 23,
   "metadata": {},
   "outputs": [
    {
     "name": "stdout",
     "output_type": "stream",
     "text": [
      "Country with second highest mean wind speed over the year is BERMUDA\n"
     ]
    }
   ],
   "source": [
    "\"\"\"\n",
    "Which country had the second highest average mean wind speed over the year?\n",
    "\n",
    "Approach:\n",
    "Missing wind speed data should be filtered out.\n",
    "Then average winds spped over the year can be computed as \n",
    "groupby query of year and country \n",
    "and applying aggregation function called mean\n",
    "\"\"\"\n",
    "average_wind_speed = get_mean_average_sorted(\n",
    "                    final_weather_data, \n",
    "                    'WDSP', \n",
    "                    ['YEAR', 'COUNTRY_FULL'],\n",
    "                    999.9\n",
    "                )\n",
    "country = average_wind_speed.select('COUNTRY_FULL').take(2)\n",
    "print(f\"Country with second highest mean wind speed over the year is {country[1].COUNTRY_FULL}\")"
   ]
  },
  {
   "cell_type": "code",
   "execution_count": null,
   "metadata": {},
   "outputs": [],
   "source": []
  }
 ],
 "metadata": {
  "hide_input": false,
  "kernelspec": {
   "display_name": "Python 3",
   "language": "python",
   "name": "python3"
  },
  "language_info": {
   "codemirror_mode": {
    "name": "ipython",
    "version": 3
   },
   "file_extension": ".py",
   "mimetype": "text/x-python",
   "name": "python",
   "nbconvert_exporter": "python",
   "pygments_lexer": "ipython3",
   "version": "3.9.0"
  },
  "toc": {
   "base_numbering": 1,
   "nav_menu": {},
   "number_sections": true,
   "sideBar": true,
   "skip_h1_title": false,
   "title_cell": "Table of Contents",
   "title_sidebar": "Contents",
   "toc_cell": false,
   "toc_position": {},
   "toc_section_display": true,
   "toc_window_display": false
  }
 },
 "nbformat": 4,
 "nbformat_minor": 2
}
